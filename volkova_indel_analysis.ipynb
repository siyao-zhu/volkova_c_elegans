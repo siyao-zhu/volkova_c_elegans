import pandas as pd
import numpy as np
import matplotlib.pyplot as plt
import seaborn as sns
from scipy.spatial.distance import cosine
import warnings
warnings.filterwarnings('ignore')# Volkova et al. 2020 Indel Analysis

Analysis of indel mutations from C. elegans DNA repair deficient mutants